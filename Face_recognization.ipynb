{
 "cells": [
  {
   "cell_type": "code",
   "execution_count": 1,
   "id": "b413b10b",
   "metadata": {},
   "outputs": [],
   "source": [
    "import cv2\n",
    "import numpy as np\n",
    "from os import listdir\n",
    "from os.path import isfile, join\n",
    "import os\n",
    "import pywhatkit as pwt"
   ]
  },
  {
   "cell_type": "code",
   "execution_count": 2,
   "id": "12d42973",
   "metadata": {},
   "outputs": [],
   "source": [
    "face_classifier = cv2.CascadeClassifier('haarcascade_frontalface_default.xml')"
   ]
  },
  {
   "cell_type": "code",
   "execution_count": 3,
   "id": "989acbcb",
   "metadata": {},
   "outputs": [
    {
     "name": "stderr",
     "output_type": "stream",
     "text": [
      "<>:4: SyntaxWarning: \"is\" with a literal. Did you mean \"==\"?\n",
      "<>:4: SyntaxWarning: \"is\" with a literal. Did you mean \"==\"?\n",
      "<ipython-input-3-94584b7089e7>:4: SyntaxWarning: \"is\" with a literal. Did you mean \"==\"?\n",
      "  if faces is ():\n"
     ]
    },
    {
     "name": "stdout",
     "output_type": "stream",
     "text": [
      "Collecting sample complete\n"
     ]
    }
   ],
   "source": [
    "def face_extractor(img):\n",
    "    gray = cv2.cvtColor(img, cv2.COLOR_BGR2GRAY)\n",
    "    faces = face_classifier.detectMultiScale(gray, 1.3, 5)\n",
    "    if faces is ():\n",
    "        return None\n",
    "    for (x, y, w, h) in faces:\n",
    "        cropped_face = img[y:y+h, x:x+w]\n",
    "    return cropped_face\n",
    "\n",
    "cap = cv2.VideoCapture(0)\n",
    "count = 0\n",
    "\n",
    "while True:\n",
    "    ret, frame = cap.read()\n",
    "    if face_extractor(frame) is not None:\n",
    "        count+=1\n",
    "        face = cv2.resize(face_extractor(frame), (200, 200))\n",
    "        face = cv2.cvtColor(face, cv2.COLOR_BGR2GRAY)\n",
    "        \n",
    "        file_name_path = 'C:/Users/Nupur/Desktop/linux_world/cv/faces/me/' + str(count)+ '.jpg'\n",
    "        cv2.imwrite(file_name_path, face)\n",
    "        \n",
    "        cv2.putText(face, str(count), (50, 50), cv2.FONT_HERSHEY_COMPLEX, 1, (0, 255, 0), 2)\n",
    "        cv2.imshow('Face cropper', face)\n",
    "    else:\n",
    "        #print(\"Face not found\")\n",
    "        pass\n",
    "    if cv2.waitKey(1) == 13 or count == 100:\n",
    "        break\n",
    "cap.release()\n",
    "cv2.destroyAllWindows()\n",
    "print(\"Collecting sample complete\")"
   ]
  },
  {
   "cell_type": "code",
   "execution_count": 4,
   "id": "4181e402",
   "metadata": {},
   "outputs": [
    {
     "name": "stdout",
     "output_type": "stream",
     "text": [
      "Model1 Trained\n",
      "Model2 Trained\n"
     ]
    }
   ],
   "source": [
    "data_path1 = 'C:/Users/Nupur/Desktop/linux_world/cv/faces/me/'\n",
    "onlyFiles1 = [f for f in listdir(data_path1) if isfile(join(data_path1, f))]\n",
    "\n",
    "data_path2 = 'C:/Users/Nupur/Desktop/linux_world/cv/faces/other/'\n",
    "onlyFiles2 = [f for f in listdir(data_path2) if isfile(join(data_path2, f))]\n",
    "\n",
    "Training_data2, Labels2 = [], []\n",
    "Training_data1, Labels1 = [], []\n",
    "\n",
    "for i, files1 in enumerate(onlyFiles1):\n",
    "    image_path1 = data_path1 + onlyFiles1[i]\n",
    "    images1 = cv2.imread(image_path1, cv2.IMREAD_GRAYSCALE)\n",
    "    Training_data1.append(np.asarray(images1, dtype=np.uint8))\n",
    "    Labels1.append(i)\n",
    "\n",
    "\n",
    "for i, files2 in enumerate(onlyFiles2):\n",
    "    image_path2 = data_path2 + onlyFiles2[i]\n",
    "    images2 = cv2.imread(image_path2, cv2.IMREAD_GRAYSCALE)\n",
    "    Training_data2.append(np.asarray(images2, dtype=np.uint8))\n",
    "    Labels2.append(i)\n",
    "\n",
    "Labels2 = np.asarray(Labels2, dtype=np.int32)\n",
    "Labels1 = np.asarray(Labels1, dtype=np.int32)\n",
    "\n",
    "model1 = cv2.face_LBPHFaceRecognizer.create()\n",
    "model1.train(np.asarray(Training_data1), np.asarray(Labels1))\n",
    "print(\"Model1 Trained\")\n",
    "\n",
    "model2 = cv2.face_LBPHFaceRecognizer.create()\n",
    "model2.train(np.asarray(Training_data2), np.asarray(Labels2))\n",
    "print(\"Model2 Trained\")"
   ]
  },
  {
   "cell_type": "code",
   "execution_count": 5,
   "id": "3fe5fc9e",
   "metadata": {},
   "outputs": [],
   "source": [
    "import subprocess\n",
    "import re\n",
    "import smtplib\n",
    "from email.message import EmailMessage"
   ]
  },
  {
   "cell_type": "code",
   "execution_count": 6,
   "id": "a906c67f",
   "metadata": {},
   "outputs": [],
   "source": [
    "def launch():\n",
    "    subprocess.getoutput(\"aws ec2 run-instances --image-id  ami-011c99152163a87ae   --instance-type  t2.micro    --count 1   --subnet-id subnet-96967dfd  --security-group-ids sg-dac18aa7   --key-name  aws_key1  --tag-specifications ResourceType=instance,Tags=[{Key=Sa,Value=33}]  ResourceType=volume,Tags=[{Key=V,Value=58}]\")\n",
    "    subprocess.getoutput(\"aws ec2 create-volume   --availability-zone ap-south-1a   --volume-type gp2   --size 5  --tag-specifications ResourceType=volume,Tags=[{Key=V2,Value=369}]\")\n",
    "    p1 = subprocess.check_output(\"aws ec2 describe-instances --filters Name=tag:Sa,Values=33   --query Reservations[].Instances[].InstanceId\", shell=True)\n",
    "    p1 = p1.decode(\"utf-8\")\n",
    "    result1 = re.findall(r'\"([^\"]*)\"', p1)\n",
    "    p2 = subprocess.check_output(\"aws ec2 describe-volumes   --filters Name=tag:V2,Values=369 --query Volumes[].VolumeId[]\",shell=True)\n",
    "    p2 = p2.decode(\"utf-8\")\n",
    "    result2 = re.findall(r'\"([^\"]*)\"', p2)\n",
    "    \n",
    "    #print(result1[0], result2[0], type(result1), type(result2))\n",
    "    return result1, result2\n"
   ]
  },
  {
   "cell_type": "code",
   "execution_count": 7,
   "id": "071ee40e",
   "metadata": {},
   "outputs": [],
   "source": [
    "def MailFun(subject, body, to):\n",
    "    msg=EmailMessage()\n",
    "    msg.set_content(body)\n",
    "    msg['subject']=subject\n",
    "    msg['to']=to\n",
    "    \n",
    "    user=\"whatevk0@gmail.com\"\n",
    "    msg['from']=user\n",
    "    password=\"ftoqeqqbvflrlhay\"\n",
    "    \n",
    "    server=smtplib.SMTP(\"smtp.gmail.com\",587)\n",
    "    server.starttls()\n",
    "    server.login(user,password)\n",
    "    server.send_message(msg)\n",
    "    server.quit()\n",
    "    \n",
    "    "
   ]
  },
  {
   "cell_type": "code",
   "execution_count": null,
   "id": "f73e19fe",
   "metadata": {},
   "outputs": [],
   "source": [
    "# def sendWhatsapp(msg): \n",
    "#     from twilio.rest import Client \n",
    " \n",
    "#     account_sid = 'AC83ea7d0393c9a25d70cc5c5d99b520d3' \n",
    "#     auth_token = '78bcc36a869619172b381aebe123e9bd' \n",
    "#     client = Client(account_sid, auth_token) \n",
    " \n",
    "#     message = client.messages.create( \n",
    "#                               from_='whatsapp:+14155238886',  \n",
    "#                               body=msg,      \n",
    "#                               to='whatsapp:+917507893003' \n",
    "#                           ) \n",
    " \n",
    "#     print(message.sid)\n",
    "def sendWhatsapp(msg): \n",
    "    from twilio.rest import Client \n",
    " \n",
    "    account_sid = 'AC83ea7d0393c9a25d70cc5c5d99b520d3' \n",
    "    auth_token = '78bcc36a869619172b381aebe123e9bd' \n",
    "    client = Client(account_sid, auth_token) \n",
    " \n",
    "    message = client.messages.create( \n",
    "                              from_='whatsapp:+14155238886',  \n",
    "                              body=msg,      \n",
    "                              to='whatsapp:+919730541234' \n",
    "                          ) \n",
    " \n",
    "    print(message.sid)"
   ]
  },
  {
   "cell_type": "code",
   "execution_count": 8,
   "id": "0be19cad",
   "metadata": {},
   "outputs": [
    {
     "name": "stderr",
     "output_type": "stream",
     "text": [
      "<>:6: SyntaxWarning: \"is\" with a literal. Did you mean \"==\"?\n",
      "<>:6: SyntaxWarning: \"is\" with a literal. Did you mean \"==\"?\n",
      "<ipython-input-8-f497cf5e1200>:6: SyntaxWarning: \"is\" with a literal. Did you mean \"==\"?\n",
      "  if faces is ():\n"
     ]
    },
    {
     "name": "stdout",
     "output_type": "stream",
     "text": [
      "In 70 seconds web.whatsapp.com will open and after 20 seconds message will be delivered\n"
     ]
    }
   ],
   "source": [
    "face_classifier = cv2.CascadeClassifier('haarcascade_frontalface_default.xml')\n",
    "z = False\n",
    "def face_detector(img, size=0.5):\n",
    "    gray = cv2.cvtColor(img, cv2.COLOR_BGR2GRAY)\n",
    "    faces = face_classifier.detectMultiScale(gray, 1.3, 5)\n",
    "    if faces is ():\n",
    "        return img, []\n",
    "    for(x, y, w, h) in faces:\n",
    "        cv2.rectangle(img, (x,y), (x+w, y+h), (0, 255, 255), 2)\n",
    "        roi = img[y:y+h, x:x+w]\n",
    "        roi = cv2.resize(roi, (200, 200))\n",
    "    return img, roi\n",
    "\n",
    "cap = cv2.VideoCapture(0)\n",
    "while True:\n",
    "    ret, frame = cap.read()\n",
    "    image, face = face_detector(frame)\n",
    "    try:\n",
    "        face = cv2.cvtColor(face, cv2.COLOR_BGR2GRAY)\n",
    "        results = model1.predict(face)\n",
    "        if results[1] < 500:\n",
    "            confidence = int(100*(1-(results[1])/400))\n",
    "            display_string = str(confidence) + '% Confident it is User'\n",
    "        cv2.putText(image, display_string, (100,200), cv2.FONT_HERSHEY_COMPLEX, 1, (255,120,150), 2)\n",
    "        \n",
    "        if confidence >85:\n",
    "            cv2.putText(image, \"Hey, Nupur\", (250,450), cv2.FONT_HERSHEY_COMPLEX, 1, (0,255,0), 2)\n",
    "            cv2.imshow('Face Recogition', image)\n",
    "            if cv2.waitKey(1) == 13:\n",
    "                z = True\n",
    "                break\n",
    "            \n",
    "                       \n",
    "        else:\n",
    "            cv2.putText(image, \"Idk you\", (250, 450), cv2.FONT_HERSHEY_COMPLEX, 1, (0, 255, 0), 2)\n",
    "            cv2.imshow('Face Recogition', image)\n",
    "    except:\n",
    "        cv2.putText(image, \"No face found\", (220, 120), cv2.FONT_HERSHEY_COMPLEX, 1, (0, 0, 255), 2)\n",
    "        cv2.putText(image, \"Looking for a face\", (250, 450), cv2.FONT_HERSHEY_COMPLEX, 1, (0, 0, 255), 2)\n",
    "        cv2.imshow('Face Recogition', image)\n",
    "        pass\n",
    "    if cv2.waitKey(1) == 13:\n",
    "        break\n",
    "cap.release()\n",
    "cv2.destroyAllWindows()\n",
    "\n",
    "if z == True:\n",
    "    MailFun(\"Task6\", \"This is Face of Nupur\", \"nupurrathod20520@gmail.com\")\n",
    "    pwt.sendwhatmsg(\"+919730541234\", 'Hello Chinmay', 22,39)\n",
    "   "
   ]
  },
  {
   "cell_type": "code",
   "execution_count": 9,
   "id": "5c545c4d",
   "metadata": {},
   "outputs": [
    {
     "name": "stderr",
     "output_type": "stream",
     "text": [
      "<>:6: SyntaxWarning: \"is\" with a literal. Did you mean \"==\"?\n",
      "<>:6: SyntaxWarning: \"is\" with a literal. Did you mean \"==\"?\n",
      "<ipython-input-9-583618dac40c>:6: SyntaxWarning: \"is\" with a literal. Did you mean \"==\"?\n",
      "  if faces is ():\n"
     ]
    }
   ],
   "source": [
    "face_classifier = cv2.CascadeClassifier('haarcascade_frontalface_default.xml')\n",
    "x = False\n",
    "def face_detector(img, size=0.5):\n",
    "    gray = cv2.cvtColor(img, cv2.COLOR_BGR2GRAY)\n",
    "    faces = face_classifier.detectMultiScale(gray, 1.3, 5)\n",
    "    if faces is ():\n",
    "        return img, []\n",
    "    for(x, y, w, h) in faces:\n",
    "        cv2.rectangle(img, (x,y), (x+w, y+h), (0, 255, 255), 2)\n",
    "        roi = img[y:y+h, x:x+w]\n",
    "        roi = cv2.resize(roi, (200, 200))\n",
    "    return img, roi\n",
    "\n",
    "cap = cv2.VideoCapture(0)\n",
    "while True:\n",
    "    ret, frame = cap.read()\n",
    "    image, face = face_detector(frame)\n",
    "    try:\n",
    "        face = cv2.cvtColor(face, cv2.COLOR_BGR2GRAY)\n",
    "        results = model2.predict(face)\n",
    "        if results[1] < 500:\n",
    "            confidence = int(100*(1-(results[1])/400))\n",
    "            display_string = str(confidence) + '% Confident it is User'\n",
    "        cv2.putText(image, display_string, (100,200), cv2.FONT_HERSHEY_COMPLEX, 1, (255,120,150), 2)\n",
    "        \n",
    "        if confidence >70:\n",
    "            cv2.putText(image, \"Hey, Chinmay\", (250,450), cv2.FONT_HERSHEY_COMPLEX, 1, (0,255,0), 2)\n",
    "            cv2.imshow('Face Recogition', image)\n",
    "            #pwt.sendwhatmsg(\"+919922279015\", 'Hellw', 9, 51)\n",
    "            if cv2.waitKey(1) == 13:\n",
    "                #z = True\n",
    "                x = True\n",
    "                break\n",
    "            \n",
    "                       \n",
    "        else:\n",
    "            cv2.putText(image, \"Idk you\", (250, 450), cv2.FONT_HERSHEY_COMPLEX, 1, (0, 255, 0), 2)\n",
    "            cv2.imshow('Face Recogition', image)\n",
    "    except:\n",
    "        cv2.putText(image, \"No face found\", (220, 120), cv2.FONT_HERSHEY_COMPLEX, 1, (0, 0, 255), 2)\n",
    "        cv2.putText(image, \"Looking for a face\", (250, 450), cv2.FONT_HERSHEY_COMPLEX, 1, (0, 0, 255), 2)\n",
    "        cv2.imshow('Face Recogition', image)\n",
    "        pass\n",
    "    if cv2.waitKey(1) == 13:\n",
    "        break\n",
    "cap.release()\n",
    "cv2.destroyAllWindows()\n",
    "    \n",
    "if x == True:\n",
    "    r1, r2 = launch()"
   ]
  },
  {
   "cell_type": "code",
   "execution_count": 11,
   "id": "05c30ec8",
   "metadata": {},
   "outputs": [
    {
     "data": {
      "text/plain": [
       "\"\\nAn error occurred (IncorrectState) when calling the AttachVolume operation: Instance 'i-0873118c75219851c' is not 'running'.\""
      ]
     },
     "execution_count": 11,
     "metadata": {},
     "output_type": "execute_result"
    }
   ],
   "source": [
    "final = 'aws ec2 attach-volume --volume-id  '   + r2[0] + '  --instance-id  '   + r1[0] +  ' --device /dev/sdf'\n",
    "subprocess.getoutput(final)"
   ]
  },
  {
   "cell_type": "code",
   "execution_count": null,
   "id": "d7549715",
   "metadata": {},
   "outputs": [],
   "source": []
  }
 ],
 "metadata": {
  "kernelspec": {
   "display_name": "Python 3",
   "language": "python",
   "name": "python3"
  },
  "language_info": {
   "codemirror_mode": {
    "name": "ipython",
    "version": 3
   },
   "file_extension": ".py",
   "mimetype": "text/x-python",
   "name": "python",
   "nbconvert_exporter": "python",
   "pygments_lexer": "ipython3",
   "version": "3.8.8"
  }
 },
 "nbformat": 4,
 "nbformat_minor": 5
}
